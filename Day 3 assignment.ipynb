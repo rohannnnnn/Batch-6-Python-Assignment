{
 "cells": [
  {
   "cell_type": "code",
   "execution_count": 1,
   "metadata": {},
   "outputs": [
    {
     "name": "stdin",
     "output_type": "stream",
     "text": [
      "Enter a number :  5\n"
     ]
    },
    {
     "name": "stdout",
     "output_type": "stream",
     "text": [
      "Addition in descendoing order :\n",
      " Last 1 number --> 5 \n",
      " Last 2 number --> 9 \n",
      " Last 3 number --> 12 \n",
      " Last 4 number --> 14 \n",
      " Last 5 number --> 15 \n",
      "The sum of first 5 natural numbers is 15 \n"
     ]
    }
   ],
   "source": [
    "n=int(input(\"Enter a number : \"))\n",
    "num = n\n",
    "sum1 = 0\n",
    "incr = 0\n",
    "print(\"Addition in descendoing order :\")\n",
    "while(n > 0):\n",
    "    sum1 = sum1+n\n",
    "    n=n-1\n",
    "    incr = incr + 1\n",
    "    print(f\" Last {incr} number --> {sum1} \")\n",
    "print(f\"The sum of first {num} natural numbers is {sum1} \")"
   ]
  },
  {
   "cell_type": "code",
   "execution_count": 2,
   "metadata": {},
   "outputs": [
    {
     "name": "stdin",
     "output_type": "stream",
     "text": [
      "Enter a number :  5\n"
     ]
    },
    {
     "name": "stdout",
     "output_type": "stream",
     "text": [
      "5 is a prime number.\n"
     ]
    }
   ],
   "source": [
    "n=int(input(\"Enter a number : \"))\n",
    "if n > 1 :\n",
    "  for each in range(2,n) :\n",
    "    if n % each == 0 :\n",
    "      print(f\"{n} is not a prime number.\")\n",
    "      break\n",
    "  else : \n",
    "      print(f\"{n} is a prime number.\")\n",
    "else :\n",
    "  print(f\"{n} is equal to or less than 1, so {n} is not a prime number\")"
   ]
  },
  {
   "cell_type": "code",
   "execution_count": null,
   "metadata": {},
   "outputs": [],
   "source": []
  }
 ],
 "metadata": {
  "kernelspec": {
   "display_name": "Python 3",
   "language": "python",
   "name": "python3"
  },
  "language_info": {
   "codemirror_mode": {
    "name": "ipython",
    "version": 3
   },
   "file_extension": ".py",
   "mimetype": "text/x-python",
   "name": "python",
   "nbconvert_exporter": "python",
   "pygments_lexer": "ipython3",
   "version": "3.7.6"
  }
 },
 "nbformat": 4,
 "nbformat_minor": 4
}
